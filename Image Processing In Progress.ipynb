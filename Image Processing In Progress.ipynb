{
 "cells": [
  {
   "cell_type": "code",
   "execution_count": 1,
   "metadata": {},
   "outputs": [],
   "source": [
    "# The usual fare\n",
    "# Importing\n",
    "import numpy as np\n",
    "import matplotlib.pyplot as plt\n",
    "import pandas as pd\n",
    "%matplotlib inline\n",
    "from astropy.io import fits\n",
    "import matplotlib.cm as cm\n",
    "import os \n",
    "import glob \n",
    "import astropy\n",
    "import scipy.signal\n",
    "from astropy.stats import sigma_clip\n",
    "import time\n",
    "from astropy import stats\n",
    "from PIL import Image"
   ]
  },
  {
   "cell_type": "code",
   "execution_count": 2,
   "metadata": {},
   "outputs": [
    {
     "name": "stdout",
     "output_type": "stream",
     "text": [
      "E:\\\n"
     ]
    }
   ],
   "source": [
    "cd E:"
   ]
  },
  {
   "cell_type": "code",
   "execution_count": 12,
   "metadata": {
    "collapsed": true
   },
   "outputs": [
    {
     "name": "stdout",
     "output_type": "stream",
     "text": [
      " Volume in drive E is FINKELSTEIN\n",
      " Volume Serial Number is 6561-3364\n",
      "\n",
      " Directory of E:\\\n",
      "\n",
      "02/04/2019  05:48 PM    <DIR>          20190112\n",
      "02/04/2019  06:03 PM    <DIR>          20190113\n",
      "02/04/2019  06:09 PM    <DIR>          20190114\n",
      "02/05/2019  12:07 PM    <DIR>          20190115\n",
      "02/04/2019  06:07 PM    <DIR>          20190116\n",
      "02/05/2019  07:09 PM    <DIR>          20190117\n",
      "02/05/2019  12:23 PM    <DIR>          20190118\n",
      "02/05/2019  06:39 PM    <DIR>          20190119\n",
      "02/05/2019  06:45 PM    <DIR>          20190121\n",
      "02/05/2019  12:25 PM    <DIR>          20190122\n",
      "02/05/2019  07:10 PM    <DIR>          20190123\n",
      "02/05/2019  07:10 PM    <DIR>          20190124\n",
      "02/05/2019  06:38 PM    <DIR>          focustest\n",
      "02/06/2019  09:50 PM    <DIR>          In Class Stuffs\n",
      "02/10/2019  06:06 PM    <DIR>          samplebias_small\n",
      "               0 File(s)              0 bytes\n",
      "              15 Dir(s)  92,474,834,944 bytes free\n"
     ]
    }
   ],
   "source": [
    "# ls"
   ]
  },
  {
   "cell_type": "code",
   "execution_count": 3,
   "metadata": {},
   "outputs": [],
   "source": [
    "nights = glob.glob('2019*')\n",
    "nights.sort()\n",
    "night = nights[0]"
   ]
  },
  {
   "cell_type": "code",
   "execution_count": 4,
   "metadata": {},
   "outputs": [
    {
     "name": "stdout",
     "output_type": "stream",
     "text": [
      "E:\\20190112\n"
     ]
    }
   ],
   "source": [
    "cd /20190112/"
   ]
  },
  {
   "cell_type": "code",
   "execution_count": 5,
   "metadata": {},
   "outputs": [],
   "source": [
    "all_images = glob.glob('*.fits')\n",
    "all_images.sort() #get the all_images list in order so indexing is nice"
   ]
  },
  {
   "cell_type": "code",
   "execution_count": 40,
   "metadata": {},
   "outputs": [],
   "source": [
    "flatdec = '+13:00:03'\n",
    "biasexptime = '0.001'\n",
    "IC348dec='+32:03:34' \n",
    "ha_filter = '200'\n",
    "haoff_filter = '202'"
   ]
  },
  {
   "cell_type": "code",
   "execution_count": 22,
   "metadata": {},
   "outputs": [],
   "source": [
    "def mediancombine(filelist):\n",
    "    '''\n",
    "    Edit this docstring accordingly!\n",
    "    '''\n",
    "    n = len(filelist)\n",
    "    first_frame_data = fits.getdata(filelist[0])\n",
    "    imsize_y, imsize_x = first_frame_data.shape\n",
    "    fits_stack = np.zeros((imsize_y, imsize_x , n), dtype = np.float32) \n",
    "    for ii in range(0, n):\n",
    "        im = fits.getdata(filelist[ii])\n",
    "        fits_stack[:,:,ii] = im\n",
    "    med_frame = np.median(fits_stack, axis=2)\n",
    "    return med_frame\n",
    "# still need to median_bias = mediancombine(biasfiles)\n",
    "# fits.writeto('Backup_Master_Bias.fit', median_bias, biasheader, clobber=True)\n",
    "# Make Master Bias Path\n",
    "\n",
    "def filesorter(filename, foldername, fitskeyword_to_check, keyword):\n",
    "    '''\n",
    "    This will sort your observation data files for you. It takes in the name of a file,\n",
    "    the folder you want it in, the keyword in fits to look for, and the keyword category\n",
    "    in fits to look for the keyword in. Ex. sorting calibrations into new folder --\n",
    "    filesorter(filename,'calibration','cal','OBJECT')\n",
    "    '''\n",
    "    if os.path.exists(filename):\n",
    "        pass\n",
    "    else:\n",
    "        print(filename + \" does not exist or has already been moved.\")\n",
    "        return\n",
    "    \n",
    "    header = fits.getheader(filename)\n",
    "    fits_type = header[keyword]\n",
    "    \n",
    "    if os.path.exists(foldername):\n",
    "        pass\n",
    "    else:\n",
    "        print(\"Making new directory: \" + foldername)\n",
    "        os.mkdir(foldername)\n",
    "        \n",
    "    if fits_type == fitskeyword_to_check:\n",
    "        destination = foldername + '/'\n",
    "        print(\"Moving \" + filename + \" to: ./\" + destination + filename)\n",
    "        os.rename(filename, destination + filename)  \n",
    "\n",
    "    return\n",
    "\n",
    "def FileMover(filelist,foldername):\n",
    "        for file in filelist:\n",
    "            if os.path.exists(file):\n",
    "                pass\n",
    "            else:\n",
    "                print(file + \"does not exist or has already been moved\")\n",
    "                return\n",
    "            if os.path.exists(foldername):\n",
    "                pass\n",
    "            else:\n",
    "                print(\"Making new directory:\" + foldername)\n",
    "                os.mkdir(foldername)\n",
    "            destination = foldername + '/'\n",
    "            print(\"Moving \" + file + \" to: ./\" + destination + file)\n",
    "            os.rename(file, destination + file)  \n",
    "\n",
    "\n",
    "def norm_combine_flats(filelist):\n",
    "    '''\n",
    "    This normalizes the flat field images. Each flat will have a \n",
    "    pixel value of ~1. Once we do this, we can then median combine\n",
    "    the flats to get our master flat for a given filter\n",
    "    '''\n",
    "    n = len(filelist)\n",
    "    first_frame_data = fits.getdata(filelist[0])\n",
    "    imsize_y, imsize_x = first_frame_data.shape\n",
    "    fits_stack = np.zeros((imsize_y, imsize_x , n), dtype = np.float32) \n",
    "    for ii in range(0, n):\n",
    "        im = fits.getdata(filelist[ii])\n",
    "        norm_im =  im/np.median(im)# finish new line here to normalize flats\n",
    "        fits_stack[:,:,ii] = norm_im\n",
    "    med_frame = np.median(fits_stack, axis=2)\n",
    "    return med_frame\n",
    "\n",
    "def CustomBias(filelist):\n",
    "    for file in filelist:\n",
    "        im = fits.getdata(file)\n",
    "        new_name = 'b_'+file[6:-7]+'.fits'\n",
    "        if im.shape == (4150,4150):\n",
    "            #im_name = file[6:-7]\n",
    "            overscan = np.mean(im[:,4100:4140])\n",
    "            custom_bias = overscan * mmaster_bias\n",
    "            bias_subtracted = im - custom_bias\n",
    "            bias_sub_overscan = bias_subtracted[:4110,:4090]\n",
    "            fits.writeto(new_name,bias_sub_overscan, biasheader,overwrite=True)\n",
    "            print(new_name,'written.')"
   ]
  },
  {
   "cell_type": "markdown",
   "metadata": {},
   "source": [
    "#### Making master bias and normalized master bias array"
   ]
  },
  {
   "cell_type": "code",
   "execution_count": 8,
   "metadata": {},
   "outputs": [
    {
     "name": "stdout",
     "output_type": "stream",
     "text": [
      "Making new directory: bias\n",
      "Moving c8495t0130b00.fits to: ./bias/c8495t0130b00.fits\n",
      "Moving c8495t0131b00.fits to: ./bias/c8495t0131b00.fits\n",
      "Moving c8495t0132b00.fits to: ./bias/c8495t0132b00.fits\n",
      "Moving c8495t0133b00.fits to: ./bias/c8495t0133b00.fits\n",
      "Moving c8495t0134b00.fits to: ./bias/c8495t0134b00.fits\n",
      "Moving c8495t0135b00.fits to: ./bias/c8495t0135b00.fits\n",
      "Moving c8495t0136b00.fits to: ./bias/c8495t0136b00.fits\n",
      "Moving c8495t0137b00.fits to: ./bias/c8495t0137b00.fits\n",
      "Moving c8495t0138b00.fits to: ./bias/c8495t0138b00.fits\n",
      "Moving c8495t0139b00.fits to: ./bias/c8495t0139b00.fits\n",
      "Moving c8495t0400b00.fits to: ./bias/c8495t0400b00.fits\n",
      "Moving c8495t0401b00.fits to: ./bias/c8495t0401b00.fits\n",
      "Moving c8495t0402b00.fits to: ./bias/c8495t0402b00.fits\n",
      "Moving c8495t0403b00.fits to: ./bias/c8495t0403b00.fits\n",
      "Moving c8495t0404b00.fits to: ./bias/c8495t0404b00.fits\n",
      "Moving c8495t0405b00.fits to: ./bias/c8495t0405b00.fits\n",
      "Moving c8495t0406b00.fits to: ./bias/c8495t0406b00.fits\n",
      "Moving c8495t0407b00.fits to: ./bias/c8495t0407b00.fits\n",
      "Moving latest.fits to: ./bias/latest.fits\n"
     ]
    }
   ],
   "source": [
    "for file in all_images:\n",
    "        filesorter(file,'bias',0.001,'EXPTIME') # get the biases"
   ]
  },
  {
   "cell_type": "code",
   "execution_count": 9,
   "metadata": {},
   "outputs": [
    {
     "name": "stdout",
     "output_type": "stream",
     "text": [
      "E:\\20190112\\bias\n"
     ]
    }
   ],
   "source": [
    "cd bias/"
   ]
  },
  {
   "cell_type": "code",
   "execution_count": 10,
   "metadata": {},
   "outputs": [
    {
     "name": "stdout",
     "output_type": "stream",
     "text": [
      "Normalized Master Bias array generated\n"
     ]
    }
   ],
   "source": [
    "bias_images=glob.glob('*') # gather bias images\n",
    "first_bias_data = fits.getdata(bias_images[0]) #\n",
    "n = len(bias_images) # finds how man bias frames there are so \n",
    "                     # we can make the right sized array for them\n",
    "                     # to stack\n",
    "imsize_y, imsize_x = first_bias_data.shape\n",
    "                     # gets the size of the image to make the\n",
    "                     # right sized array for all the pixel values\n",
    "biasarray = np.zeros((imsize_y, imsize_x , n), dtype = np.float32)\n",
    "                     # make an empty array for all our stuff\n",
    "    \n",
    "for ii in range(0, n):\n",
    "    im = fits.getdata(bias_images[ii]) # gets the image data...\n",
    "    biasarray[:,:,ii] = im # and adds it to a layer of the array\n",
    "    \n",
    "\n",
    "biasheader = fits.getheader(bias_images[0]) # gets fits header for bias frames\n",
    "master_bias = mediancombine(bias_images) # performs median combo\n",
    "mmaster_bias = master_bias/np.mean(master_bias) # normalizes the master bias for overscan scaling later\n",
    "print('Normalized Master Bias array generated')"
   ]
  },
  {
   "cell_type": "code",
   "execution_count": 11,
   "metadata": {},
   "outputs": [
    {
     "name": "stdout",
     "output_type": "stream",
     "text": [
      "E:\\20190112\n"
     ]
    }
   ],
   "source": [
    "cd -"
   ]
  },
  {
   "cell_type": "markdown",
   "metadata": {},
   "source": [
    "#### Making Master flats"
   ]
  },
  {
   "cell_type": "code",
   "execution_count": 21,
   "metadata": {
    "collapsed": true
   },
   "outputs": [
    {
     "name": "stdout",
     "output_type": "stream",
     "text": [
      "b_c8495t0338f.fits written.\n",
      "b_c8495t0339f.fits written.\n",
      "b_c8495t0340f.fits written.\n",
      "b_c8495t0341f.fits written.\n",
      "b_c8495t0342f.fits written.\n",
      "Making new directory:HaFlat\n",
      "Moving HaFlatc8495t0338f00.fits to: ./HaFlat/HaFlatc8495t0338f00.fits\n",
      "Moving HaFlatc8495t0339f00.fits to: ./HaFlat/HaFlatc8495t0339f00.fits\n",
      "Moving HaFlatc8495t0340f00.fits to: ./HaFlat/HaFlatc8495t0340f00.fits\n",
      "Moving HaFlatc8495t0341f00.fits to: ./HaFlat/HaFlatc8495t0341f00.fits\n",
      "Moving HaFlatc8495t0342f00.fits to: ./HaFlat/HaFlatc8495t0342f00.fits\n"
     ]
    }
   ],
   "source": [
    "# Finding and sorting Ha Flats\n",
    "all_images=glob.glob('*.fits')\n",
    "all_images \n",
    "flat_images = []\n",
    "for flat in all_images:\n",
    "    if fits.getheader(flat)['DECSTRNG']==flatdec and fits.getheader(flat)['FILTER2 ']==ha_filter:\n",
    "        flat_images.append(flat)\n",
    "CustomBias(flat_images)\n",
    "# Moving Ha flat images\n",
    "FileMover(flat_images,'HaFlat')\n",
    "#------------------------------------------\n",
    "# Bias subtracting Ha Flat images\n",
    "b_flat_images = glob.glob(\"b_*.fits\")\n",
    "flat_header= fits.getheader(b_flat_images[0])\n",
    "# Making Ha master flat\n",
    "Master_Ha_Flat = norm_combine_flats(b_flat_images)\n",
    "fits.writeto('MasterHaFlat.fits',Master_Ha_Flat,flat_header,overwrite=True)\n",
    "print('Master Ha flat Array Generated')\n",
    "# Moving Ha flat bias subtracted images\n",
    "FileMover(b_flat_images,'Ha_bias_sub_flats')"
   ]
  },
  {
   "cell_type": "markdown",
   "metadata": {},
   "source": [
    "#### "
   ]
  },
  {
   "cell_type": "code",
   "execution_count": 24,
   "metadata": {
    "collapsed": true
   },
   "outputs": [
    {
     "name": "stdout",
     "output_type": "stream",
     "text": [
      "b_0336f.fits written.\n",
      "b_0329f.fits written.\n",
      "b_0323f.fits written.\n",
      "b_0335f.fits written.\n",
      "b_0332f.fits written.\n",
      "b_0334f.fits written.\n",
      "b_0327f.fits written.\n",
      "b_0337f.fits written.\n",
      "b_0328f.fits written.\n",
      "b_0326f.fits written.\n",
      "b_0331f.fits written.\n",
      "b_0330f.fits written.\n",
      "b_0333f.fits written.\n",
      "b_0324f.fits written.\n",
      "b_0325f.fits written.\n",
      "Making new directory:HaOffFlat\n",
      "Moving c8495t0336f00.fits to: ./HaOffFlat/c8495t0336f00.fits\n",
      "Moving c8495t0329f00.fits to: ./HaOffFlat/c8495t0329f00.fits\n",
      "Moving c8495t0323f00.fits to: ./HaOffFlat/c8495t0323f00.fits\n",
      "Moving c8495t0335f00.fits to: ./HaOffFlat/c8495t0335f00.fits\n",
      "Moving c8495t0332f00.fits to: ./HaOffFlat/c8495t0332f00.fits\n",
      "Moving c8495t0334f00.fits to: ./HaOffFlat/c8495t0334f00.fits\n",
      "Moving c8495t0327f00.fits to: ./HaOffFlat/c8495t0327f00.fits\n",
      "Moving c8495t0337f00.fits to: ./HaOffFlat/c8495t0337f00.fits\n",
      "Moving c8495t0328f00.fits to: ./HaOffFlat/c8495t0328f00.fits\n",
      "Moving c8495t0326f00.fits to: ./HaOffFlat/c8495t0326f00.fits\n",
      "Moving c8495t0331f00.fits to: ./HaOffFlat/c8495t0331f00.fits\n",
      "Moving c8495t0330f00.fits to: ./HaOffFlat/c8495t0330f00.fits\n",
      "Moving c8495t0333f00.fits to: ./HaOffFlat/c8495t0333f00.fits\n",
      "Moving c8495t0324f00.fits to: ./HaOffFlat/c8495t0324f00.fits\n",
      "Moving c8495t0325f00.fits to: ./HaOffFlat/c8495t0325f00.fits\n"
     ]
    }
   ],
   "source": [
    "# Finding and sorting Ha-off Flats\n",
    "all_images=glob.glob('*.fits')\n",
    "all_images \n",
    "flat_images = []\n",
    "for flat in all_images:\n",
    "    if fits.getheader(flat)['DECSTRNG']==flatdec and fits.getheader(flat)['FILTER2 ']==haoff_filter:\n",
    "        flat_images.append(flat)\n",
    "CustomBias(flat_images)\n",
    "# Moving Ha-off flat images\n",
    "FileMover(flat_images,'HaOffFlat')\n",
    "#------------------------------------------\n",
    "# Bias subtracting Ha-Flat images\n",
    "b_flat_images = glob.glob(\"b_*.fits\")\n",
    "b_flat_images.sort()\n",
    "b_flat_images = b_flat_images[10:14]\n",
    "b_flat_images\n",
    "flat_header= fits.getheader(b_flat_images[0])\n",
    "# Making Ha-off master flat\n",
    "Master_Haoff_Flat = norm_combine_flats(b_flat_images)\n",
    "fits.writeto('MasterHaOffFlat.fits',Master_Haoff_Flat,flat_header,overwrite=True)\n",
    "print('Master Ha off flat Array Generated')\n",
    "# Moving Ha-off flat bias subtracted images\n",
    "FileMover(b_flat_images,'HaOff_bias_sub_flats')"
   ]
  },
  {
   "cell_type": "markdown",
   "metadata": {},
   "source": [
    "#### IC 348 Science Images"
   ]
  },
  {
   "cell_type": "code",
   "execution_count": 31,
   "metadata": {
    "collapsed": true
   },
   "outputs": [
    {
     "name": "stdout",
     "output_type": "stream",
     "text": [
      "b_0200o.fits written.\n",
      "b_0201o.fits written.\n",
      "b_0202o.fits written.\n",
      "b_0154o.fits written.\n",
      "b_0155o.fits written.\n",
      "b_0156o.fits written.\n",
      "b_0177o.fits written.\n",
      "b_0178o.fits written.\n",
      "b_0179o.fits written.\n",
      "Making new directory:IC348_Ha\n",
      "Moving c8495t0200o00.fits to: ./IC348_Ha/c8495t0200o00.fits\n",
      "Moving c8495t0201o00.fits to: ./IC348_Ha/c8495t0201o00.fits\n",
      "Moving c8495t0202o00.fits to: ./IC348_Ha/c8495t0202o00.fits\n",
      "Moving c8495t0154o00.fits to: ./IC348_Ha/c8495t0154o00.fits\n",
      "Moving c8495t0155o00.fits to: ./IC348_Ha/c8495t0155o00.fits\n",
      "Moving c8495t0156o00.fits to: ./IC348_Ha/c8495t0156o00.fits\n",
      "Moving c8495t0177o00.fits to: ./IC348_Ha/c8495t0177o00.fits\n",
      "Moving c8495t0178o00.fits to: ./IC348_Ha/c8495t0178o00.fits\n",
      "Moving c8495t0179o00.fits to: ./IC348_Ha/c8495t0179o00.fits\n",
      "Making new directory:IC348_bias_sub\n",
      "Moving b_0200o.fits to: ./IC348_bias_sub/b_0200o.fits\n",
      "Moving b_0201o.fits to: ./IC348_bias_sub/b_0201o.fits\n",
      "Moving b_0202o.fits to: ./IC348_bias_sub/b_0202o.fits\n",
      "Moving b_0154o.fits to: ./IC348_bias_sub/b_0154o.fits\n",
      "Moving b_0155o.fits to: ./IC348_bias_sub/b_0155o.fits\n",
      "Moving b_0156o.fits to: ./IC348_bias_sub/b_0156o.fits\n",
      "Moving b_0177o.fits to: ./IC348_bias_sub/b_0177o.fits\n",
      "Moving b_0178o.fits to: ./IC348_bias_sub/b_0178o.fits\n",
      "Moving b_0179o.fits to: ./IC348_bias_sub/b_0179o.fits\n"
     ]
    }
   ],
   "source": [
    "# Reglobbing everything\n",
    "all_images = glob.glob('*fits')\n",
    "IC348_Ha = []\n",
    "# Finding IC348 Ha images and adding to empty list\n",
    "for IC348 in all_images:\n",
    "    if fits.getheader(IC348)['DECSTRNG']==IC348dec and fits.getheader(IC348)['FILTER2 ']==ha_filter:\n",
    "        IC348_Ha.append(IC348)\n",
    "CustomBias(IC348_Ha)\n",
    "# Moving IC348 Ha science images\n",
    "FileMover(IC348_Ha,'IC348_Ha')\n",
    "# Bias subtracting IC348 Ha science images\n",
    "IC348_Ha_bias_sub = glob.glob('b_*')\n",
    "# Moving IC348 Ha bias subtracted science images\n",
    "FileMover(IC348_Ha_bias_sub,'IC348_Ha_bias_sub')\n",
    "#--------------------------------------------------------------\n",
    "# Reglobbing everything\n",
    "all_images = glob.glob('*fits')\n",
    "IC348_Haoff = []\n",
    "# Finding IC348 Ha-off images and adding to empty list\n",
    "for IC348_off in all_images:\n",
    "    if fits.getheader(IC348_off)['DECSTRNG']==IC348dec and fits.getheader(IC348_off)['FILTER2 ']==haoff_filter:\n",
    "        IC348_Haoff.append(IC348_off)\n",
    "CustomBias(IC348_Haoff)\n",
    "# Moving IC348 Ha science images\n",
    "FileMover(IC348_Haoff,'IC348_HaOff')\n",
    "# Moving IC348 Ha bias subtracted science images\n",
    "IC348_HaOff_bias_sub = glob.glob('b_*')\n",
    "# Moving IC348 Ha bias subtracted science images\n",
    "FileMover(IC348_HaOff_bias_sub,'IC348_HaOff_bias_sub')"
   ]
  },
  {
   "cell_type": "code",
   "execution_count": 35,
   "metadata": {
    "collapsed": true
   },
   "outputs": [
    {
     "name": "stdout",
     "output_type": "stream",
     "text": [
      "Making new directory:Other_Fields\n",
      "Moving c8495t0050o00.fits to: ./Other_Fields/c8495t0050o00.fits\n",
      "Moving c8495t0038o00.fits to: ./Other_Fields/c8495t0038o00.fits\n",
      "Moving c8495t0309o00.fits to: ./Other_Fields/c8495t0309o00.fits\n",
      "Moving c8495t0199o00.fits to: ./Other_Fields/c8495t0199o00.fits\n",
      "Moving c8495t0193o00.fits to: ./Other_Fields/c8495t0193o00.fits\n",
      "Moving c8495t0368f00.fits to: ./Other_Fields/c8495t0368f00.fits\n",
      "Moving c8495t0369f00.fits to: ./Other_Fields/c8495t0369f00.fits\n",
      "Moving c8495t0284o00.fits to: ./Other_Fields/c8495t0284o00.fits\n",
      "Moving c8495t0394f00.fits to: ./Other_Fields/c8495t0394f00.fits\n",
      "Moving c8495t0358f00.fits to: ./Other_Fields/c8495t0358f00.fits\n",
      "Moving c8495t0372f00.fits to: ./Other_Fields/c8495t0372f00.fits\n",
      "Moving c8495t0245o00.fits to: ./Other_Fields/c8495t0245o00.fits\n",
      "Moving c8495t0196o00.fits to: ./Other_Fields/c8495t0196o00.fits\n",
      "Moving c8495t0260o00.fits to: ./Other_Fields/c8495t0260o00.fits\n",
      "Moving c8495t0283o00.fits to: ./Other_Fields/c8495t0283o00.fits\n",
      "Moving c8495t0299o00.fits to: ./Other_Fields/c8495t0299o00.fits\n",
      "Moving c8495t0343f00.fits to: ./Other_Fields/c8495t0343f00.fits\n",
      "Moving c8495t0198o00.fits to: ./Other_Fields/c8495t0198o00.fits\n",
      "Moving c8495t0255o00.fits to: ./Other_Fields/c8495t0255o00.fits\n",
      "Moving c8495t0360f00.fits to: ./Other_Fields/c8495t0360f00.fits\n",
      "Moving c8495t0353f00.fits to: ./Other_Fields/c8495t0353f00.fits\n",
      "Moving c8495t0002f00.fits to: ./Other_Fields/c8495t0002f00.fits\n",
      "Moving c8495t0359f00.fits to: ./Other_Fields/c8495t0359f00.fits\n",
      "Moving c8495t0311o00.fits to: ./Other_Fields/c8495t0311o00.fits\n",
      "Moving c8495t0278o00.fits to: ./Other_Fields/c8495t0278o00.fits\n",
      "Moving c8495t0307o00.fits to: ./Other_Fields/c8495t0307o00.fits\n",
      "Moving c8495t0271o00.fits to: ./Other_Fields/c8495t0271o00.fits\n",
      "Moving c8495t0015f00.fits to: ./Other_Fields/c8495t0015f00.fits\n",
      "Moving c8495t0147o00.fits to: ./Other_Fields/c8495t0147o00.fits\n",
      "Moving c8495t0145o00.fits to: ./Other_Fields/c8495t0145o00.fits\n",
      "Moving c8495t0171o00.fits to: ./Other_Fields/c8495t0171o00.fits\n",
      "Moving c8495t0254o00.fits to: ./Other_Fields/c8495t0254o00.fits\n",
      "Moving c8495t0274o00.fits to: ./Other_Fields/c8495t0274o00.fits\n",
      "Moving c8495t0017f00.fits to: ./Other_Fields/c8495t0017f00.fits\n",
      "Moving c8495t0277o00.fits to: ./Other_Fields/c8495t0277o00.fits\n",
      "Moving c8495t0367f00.fits to: ./Other_Fields/c8495t0367f00.fits\n",
      "Moving c8495t0176o00.fits to: ./Other_Fields/c8495t0176o00.fits\n",
      "Moving c8495t0298o00.fits to: ./Other_Fields/c8495t0298o00.fits\n",
      "Moving c8495t0263o00.fits to: ./Other_Fields/c8495t0263o00.fits\n",
      "Moving c8495t0041o00.fits to: ./Other_Fields/c8495t0041o00.fits\n",
      "Moving c8495t0160o00.fits to: ./Other_Fields/c8495t0160o00.fits\n",
      "Moving c8495t0169o00.fits to: ./Other_Fields/c8495t0169o00.fits\n",
      "Moving c8495t0362f00.fits to: ./Other_Fields/c8495t0362f00.fits\n",
      "Moving c8495t0355f00.fits to: ./Other_Fields/c8495t0355f00.fits\n",
      "Moving c8495t0308o00.fits to: ./Other_Fields/c8495t0308o00.fits\n",
      "Moving c8495t0186o00.fits to: ./Other_Fields/c8495t0186o00.fits\n",
      "Moving c8495t0320o00.fits to: ./Other_Fields/c8495t0320o00.fits\n",
      "Moving c8495t0191o00.fits to: ./Other_Fields/c8495t0191o00.fits\n",
      "Moving c8495t0291o00.fits to: ./Other_Fields/c8495t0291o00.fits\n",
      "Moving c8495t0380f00.fits to: ./Other_Fields/c8495t0380f00.fits\n",
      "Moving c8495t0294o00.fits to: ./Other_Fields/c8495t0294o00.fits\n",
      "Moving c8495t0268o00.fits to: ./Other_Fields/c8495t0268o00.fits\n",
      "Moving c8495t0165o00.fits to: ./Other_Fields/c8495t0165o00.fits\n",
      "Moving c8495t0387f00.fits to: ./Other_Fields/c8495t0387f00.fits\n",
      "Moving c8495t0350f00.fits to: ./Other_Fields/c8495t0350f00.fits\n",
      "Moving c8495t0285o00.fits to: ./Other_Fields/c8495t0285o00.fits\n",
      "Moving c8495t0021f00.fits to: ./Other_Fields/c8495t0021f00.fits\n",
      "Moving c8495t0034o00.fits to: ./Other_Fields/c8495t0034o00.fits\n",
      "Moving c8495t0172o00.fits to: ./Other_Fields/c8495t0172o00.fits\n",
      "Moving c8495t0393f00.fits to: ./Other_Fields/c8495t0393f00.fits\n",
      "Moving c8495t0322o00.fits to: ./Other_Fields/c8495t0322o00.fits\n",
      "Moving c8495t0370f00.fits to: ./Other_Fields/c8495t0370f00.fits\n",
      "Moving c8495t0297o00.fits to: ./Other_Fields/c8495t0297o00.fits\n",
      "Moving c8495t0166o00.fits to: ./Other_Fields/c8495t0166o00.fits\n",
      "Moving c8495t0150o00.fits to: ./Other_Fields/c8495t0150o00.fits\n",
      "Moving c8495t0033o00.fits to: ./Other_Fields/c8495t0033o00.fits\n",
      "Moving c8495t0296o00.fits to: ./Other_Fields/c8495t0296o00.fits\n",
      "Moving c8495t0188o00.fits to: ./Other_Fields/c8495t0188o00.fits\n",
      "Moving c8495t0019f00.fits to: ./Other_Fields/c8495t0019f00.fits\n",
      "Moving c8495t0363f00.fits to: ./Other_Fields/c8495t0363f00.fits\n",
      "Moving c8495t0391f00.fits to: ./Other_Fields/c8495t0391f00.fits\n",
      "Moving c8495t0175o00.fits to: ./Other_Fields/c8495t0175o00.fits\n",
      "Moving c8495t0003f00.fits to: ./Other_Fields/c8495t0003f00.fits\n",
      "Moving c8495t0187o00.fits to: ./Other_Fields/c8495t0187o00.fits\n",
      "Moving c8495t0267o00.fits to: ./Other_Fields/c8495t0267o00.fits\n",
      "Moving c8495t0195o00.fits to: ./Other_Fields/c8495t0195o00.fits\n",
      "Moving c8495t0345f00.fits to: ./Other_Fields/c8495t0345f00.fits\n",
      "Moving c8495t0292o00.fits to: ./Other_Fields/c8495t0292o00.fits\n",
      "Moving c8495t0053o00.fits to: ./Other_Fields/c8495t0053o00.fits\n",
      "Moving c8495t0243o00.fits to: ./Other_Fields/c8495t0243o00.fits\n",
      "Moving c8495t0253o00.fits to: ./Other_Fields/c8495t0253o00.fits\n",
      "Moving c8495t0247o00.fits to: ./Other_Fields/c8495t0247o00.fits\n",
      "Moving c8495t0270o00.fits to: ./Other_Fields/c8495t0270o00.fits\n",
      "Moving c8495t0162o00.fits to: ./Other_Fields/c8495t0162o00.fits\n",
      "Moving c8495t0305o00.fits to: ./Other_Fields/c8495t0305o00.fits\n",
      "Moving c8495t0016f00.fits to: ./Other_Fields/c8495t0016f00.fits\n",
      "Moving c8495t0164o00.fits to: ./Other_Fields/c8495t0164o00.fits\n",
      "Moving c8495t0295o00.fits to: ./Other_Fields/c8495t0295o00.fits\n",
      "Moving c8495t0365f00.fits to: ./Other_Fields/c8495t0365f00.fits\n",
      "Moving c8495t0037o00.fits to: ./Other_Fields/c8495t0037o00.fits\n",
      "Moving c8495t0241o00.fits to: ./Other_Fields/c8495t0241o00.fits\n",
      "Moving c8495t0170o00.fits to: ./Other_Fields/c8495t0170o00.fits\n",
      "Moving c8495t0035o00.fits to: ./Other_Fields/c8495t0035o00.fits\n",
      "Moving c8495t0018f00.fits to: ./Other_Fields/c8495t0018f00.fits\n",
      "Moving c8495t0349f00.fits to: ./Other_Fields/c8495t0349f00.fits\n",
      "Moving c8495t0168o00.fits to: ./Other_Fields/c8495t0168o00.fits\n",
      "Moving c8495t0252o00.fits to: ./Other_Fields/c8495t0252o00.fits\n",
      "Moving c8495t0153o00.fits to: ./Other_Fields/c8495t0153o00.fits\n",
      "Moving c8495t0030o00.fits to: ./Other_Fields/c8495t0030o00.fits\n",
      "Moving c8495t0022f00.fits to: ./Other_Fields/c8495t0022f00.fits\n",
      "Moving c8495t0239o00.fits to: ./Other_Fields/c8495t0239o00.fits\n",
      "Moving c8495t0276o00.fits to: ./Other_Fields/c8495t0276o00.fits\n",
      "Moving c8495t0046o00.fits to: ./Other_Fields/c8495t0046o00.fits\n",
      "Moving c8495t0259o00.fits to: ./Other_Fields/c8495t0259o00.fits\n",
      "Moving c8495t0397f00.fits to: ./Other_Fields/c8495t0397f00.fits\n",
      "Moving c8495t0300o00.fits to: ./Other_Fields/c8495t0300o00.fits\n",
      "Moving c8495t0379f00.fits to: ./Other_Fields/c8495t0379f00.fits\n",
      "Moving c8495t0389f00.fits to: ./Other_Fields/c8495t0389f00.fits\n",
      "Moving c8495t0039o00.fits to: ./Other_Fields/c8495t0039o00.fits\n",
      "Moving c8495t0293o00.fits to: ./Other_Fields/c8495t0293o00.fits\n",
      "Moving c8495t0190o00.fits to: ./Other_Fields/c8495t0190o00.fits\n",
      "Moving c8495t0167o00.fits to: ./Other_Fields/c8495t0167o00.fits\n",
      "Moving c8495t0381f00.fits to: ./Other_Fields/c8495t0381f00.fits\n",
      "Moving c8495t0374f00.fits to: ./Other_Fields/c8495t0374f00.fits\n",
      "Moving c8495t0396f00.fits to: ./Other_Fields/c8495t0396f00.fits\n",
      "Moving c8495t0383f00.fits to: ./Other_Fields/c8495t0383f00.fits\n",
      "Moving c8495t0375f00.fits to: ./Other_Fields/c8495t0375f00.fits\n",
      "Moving c8495t0043o00.fits to: ./Other_Fields/c8495t0043o00.fits\n",
      "Moving c8495t0152o00.fits to: ./Other_Fields/c8495t0152o00.fits\n",
      "Moving c8495t0028f00.fits to: ./Other_Fields/c8495t0028f00.fits\n",
      "Moving c8495t0373f00.fits to: ./Other_Fields/c8495t0373f00.fits\n",
      "Moving c8495t0385f00.fits to: ./Other_Fields/c8495t0385f00.fits\n",
      "Moving c8495t0027f00.fits to: ./Other_Fields/c8495t0027f00.fits\n",
      "Moving c8495t0321o00.fits to: ./Other_Fields/c8495t0321o00.fits\n",
      "Moving c8495t0049o00.fits to: ./Other_Fields/c8495t0049o00.fits\n",
      "Moving c8495t0352f00.fits to: ./Other_Fields/c8495t0352f00.fits\n",
      "Moving c8495t0398f00.fits to: ./Other_Fields/c8495t0398f00.fits\n",
      "Moving c8495t0351f00.fits to: ./Other_Fields/c8495t0351f00.fits\n",
      "Moving c8495t0280o00.fits to: ./Other_Fields/c8495t0280o00.fits\n",
      "Moving c8495t0376f00.fits to: ./Other_Fields/c8495t0376f00.fits\n",
      "Moving c8495t0316o00.fits to: ./Other_Fields/c8495t0316o00.fits\n",
      "Moving c8495t0348f00.fits to: ./Other_Fields/c8495t0348f00.fits\n",
      "Moving c8495t0344f00.fits to: ./Other_Fields/c8495t0344f00.fits\n",
      "Moving c8495t0314o00.fits to: ./Other_Fields/c8495t0314o00.fits\n",
      "Moving c8495t0146o00.fits to: ./Other_Fields/c8495t0146o00.fits\n",
      "Moving c8495t0257o00.fits to: ./Other_Fields/c8495t0257o00.fits\n",
      "Moving c8495t0312o00.fits to: ./Other_Fields/c8495t0312o00.fits\n",
      "Moving c8495t0273o00.fits to: ./Other_Fields/c8495t0273o00.fits\n",
      "Moving c8495t0279o00.fits to: ./Other_Fields/c8495t0279o00.fits\n"
     ]
    },
    {
     "name": "stdout",
     "output_type": "stream",
     "text": [
      "Moving c8495t0244o00.fits to: ./Other_Fields/c8495t0244o00.fits\n",
      "Moving c8495t0354f00.fits to: ./Other_Fields/c8495t0354f00.fits\n",
      "Moving c8495t0356f00.fits to: ./Other_Fields/c8495t0356f00.fits\n",
      "Moving c8495t0258o00.fits to: ./Other_Fields/c8495t0258o00.fits\n",
      "Moving c8495t0149o00.fits to: ./Other_Fields/c8495t0149o00.fits\n",
      "Moving c8495t0346f00.fits to: ./Other_Fields/c8495t0346f00.fits\n",
      "Moving c8495t0151o00.fits to: ./Other_Fields/c8495t0151o00.fits\n",
      "Moving c8495t0371f00.fits to: ./Other_Fields/c8495t0371f00.fits\n",
      "Moving c8495t0042o00.fits to: ./Other_Fields/c8495t0042o00.fits\n",
      "Moving c8495t0197o00.fits to: ./Other_Fields/c8495t0197o00.fits\n",
      "Moving c8495t0242o00.fits to: ./Other_Fields/c8495t0242o00.fits\n",
      "Moving c8495t0143o00.fits to: ./Other_Fields/c8495t0143o00.fits\n",
      "Moving c8495t0366f00.fits to: ./Other_Fields/c8495t0366f00.fits\n",
      "Moving c8495t0192o00.fits to: ./Other_Fields/c8495t0192o00.fits\n",
      "Moving c8495t0161o00.fits to: ./Other_Fields/c8495t0161o00.fits\n",
      "Moving c8495t0290o00.fits to: ./Other_Fields/c8495t0290o00.fits\n",
      "Moving c8495t0281o00.fits to: ./Other_Fields/c8495t0281o00.fits\n",
      "Moving c8495t0163o00.fits to: ./Other_Fields/c8495t0163o00.fits\n",
      "Moving c8495t0272o00.fits to: ./Other_Fields/c8495t0272o00.fits\n",
      "Moving c8495t0140o00.fits to: ./Other_Fields/c8495t0140o00.fits\n",
      "Moving c8495t0032o00.fits to: ./Other_Fields/c8495t0032o00.fits\n",
      "Moving c8495t0051o00.fits to: ./Other_Fields/c8495t0051o00.fits\n",
      "Moving c8495t0384f00.fits to: ./Other_Fields/c8495t0384f00.fits\n",
      "Moving c8495t0388f00.fits to: ./Other_Fields/c8495t0388f00.fits\n",
      "Moving c8495t0315o00.fits to: ./Other_Fields/c8495t0315o00.fits\n",
      "Moving c8495t0047o00.fits to: ./Other_Fields/c8495t0047o00.fits\n",
      "Moving c8495t0023f00.fits to: ./Other_Fields/c8495t0023f00.fits\n",
      "Moving c8495t0173o00.fits to: ./Other_Fields/c8495t0173o00.fits\n",
      "Moving c8495t0020f00.fits to: ./Other_Fields/c8495t0020f00.fits\n",
      "Moving c8495t0357f00.fits to: ./Other_Fields/c8495t0357f00.fits\n",
      "Moving c8495t0382f00.fits to: ./Other_Fields/c8495t0382f00.fits\n",
      "Moving c8495t0313o00.fits to: ./Other_Fields/c8495t0313o00.fits\n",
      "Moving c8495t0029f00.fits to: ./Other_Fields/c8495t0029f00.fits\n",
      "Moving c8495t0183o00.fits to: ./Other_Fields/c8495t0183o00.fits\n",
      "Moving c8495t0378f00.fits to: ./Other_Fields/c8495t0378f00.fits\n",
      "Moving c8495t0386f00.fits to: ./Other_Fields/c8495t0386f00.fits\n",
      "Moving c8495t0048o00.fits to: ./Other_Fields/c8495t0048o00.fits\n",
      "Moving c8495t0237o00.fits to: ./Other_Fields/c8495t0237o00.fits\n",
      "Moving c8495t0054o00.fits to: ./Other_Fields/c8495t0054o00.fits\n",
      "Moving c8495t0026f00.fits to: ./Other_Fields/c8495t0026f00.fits\n",
      "Moving c8495t0361f00.fits to: ./Other_Fields/c8495t0361f00.fits\n",
      "Moving c8495t0256o00.fits to: ./Other_Fields/c8495t0256o00.fits\n",
      "Moving c8495t0185o00.fits to: ./Other_Fields/c8495t0185o00.fits\n",
      "Moving c8495t0144o00.fits to: ./Other_Fields/c8495t0144o00.fits\n",
      "Moving c8495t0189o00.fits to: ./Other_Fields/c8495t0189o00.fits\n",
      "Moving c8495t0395f00.fits to: ./Other_Fields/c8495t0395f00.fits\n",
      "Moving c8495t0289o00.fits to: ./Other_Fields/c8495t0289o00.fits\n",
      "Moving c8495t0174o00.fits to: ./Other_Fields/c8495t0174o00.fits\n",
      "Moving c8495t0142o00.fits to: ./Other_Fields/c8495t0142o00.fits\n",
      "Moving c8495t0024f00.fits to: ./Other_Fields/c8495t0024f00.fits\n",
      "Moving c8495t0184o00.fits to: ./Other_Fields/c8495t0184o00.fits\n",
      "Moving c8495t0377f00.fits to: ./Other_Fields/c8495t0377f00.fits\n",
      "Moving c8495t0392f00.fits to: ./Other_Fields/c8495t0392f00.fits\n",
      "Moving c8495t0390f00.fits to: ./Other_Fields/c8495t0390f00.fits\n",
      "Moving c8495t0045o00.fits to: ./Other_Fields/c8495t0045o00.fits\n",
      "Moving c8495t0301o00.fits to: ./Other_Fields/c8495t0301o00.fits\n",
      "Moving c8495t0044o00.fits to: ./Other_Fields/c8495t0044o00.fits\n",
      "Moving c8495t0001f00.fits to: ./Other_Fields/c8495t0001f00.fits\n",
      "Moving c8495t0014f00.fits to: ./Other_Fields/c8495t0014f00.fits\n",
      "Moving c8495t0364f00.fits to: ./Other_Fields/c8495t0364f00.fits\n",
      "Moving c8495t0262o00.fits to: ./Other_Fields/c8495t0262o00.fits\n",
      "Moving c8495t0036o00.fits to: ./Other_Fields/c8495t0036o00.fits\n",
      "Moving c8495t0310o00.fits to: ./Other_Fields/c8495t0310o00.fits\n",
      "Moving c8495t0399f00.fits to: ./Other_Fields/c8495t0399f00.fits\n",
      "Moving c8495t0025f00.fits to: ./Other_Fields/c8495t0025f00.fits\n",
      "Moving c8495t0238o00.fits to: ./Other_Fields/c8495t0238o00.fits\n",
      "Moving c8495t0052o00.fits to: ./Other_Fields/c8495t0052o00.fits\n",
      "Moving c8495t0347f00.fits to: ./Other_Fields/c8495t0347f00.fits\n",
      "Moving c8495t0246o00.fits to: ./Other_Fields/c8495t0246o00.fits\n",
      "Moving c8495t0269o00.fits to: ./Other_Fields/c8495t0269o00.fits\n",
      "Moving c8495t0275o00.fits to: ./Other_Fields/c8495t0275o00.fits\n",
      "Moving c8495t0306o00.fits to: ./Other_Fields/c8495t0306o00.fits\n",
      "Moving c8495t0194o00.fits to: ./Other_Fields/c8495t0194o00.fits\n",
      "Moving c8495t0261o00.fits to: ./Other_Fields/c8495t0261o00.fits\n",
      "Moving c8495t0141o00.fits to: ./Other_Fields/c8495t0141o00.fits\n",
      "Moving c8495t0040o00.fits to: ./Other_Fields/c8495t0040o00.fits\n",
      "Moving c8495t0148o00.fits to: ./Other_Fields/c8495t0148o00.fits\n",
      "Moving c8495t0240o00.fits to: ./Other_Fields/c8495t0240o00.fits\n",
      "Moving c8495t0031o00.fits to: ./Other_Fields/c8495t0031o00.fits\n",
      "Moving c8495t0282o00.fits to: ./Other_Fields/c8495t0282o00.fits\n",
      "Moving c8495t0248o00.fits to: ./Other_Fields/c8495t0248o00.fits\n",
      "Moving c8495t0249o00.fits to: ./Other_Fields/c8495t0249o00.fits\n",
      "Moving c8495t0250o00.fits to: ./Other_Fields/c8495t0250o00.fits\n",
      "Moving c8495t0251o00.fits to: ./Other_Fields/c8495t0251o00.fits\n",
      "Moving c8495t0264o00.fits to: ./Other_Fields/c8495t0264o00.fits\n",
      "Moving c8495t0265o00.fits to: ./Other_Fields/c8495t0265o00.fits\n",
      "Moving c8495t0266o00.fits to: ./Other_Fields/c8495t0266o00.fits\n",
      "Moving c8495t0286o00.fits to: ./Other_Fields/c8495t0286o00.fits\n",
      "Moving c8495t0287o00.fits to: ./Other_Fields/c8495t0287o00.fits\n",
      "Moving c8495t0288o00.fits to: ./Other_Fields/c8495t0288o00.fits\n",
      "Moving c8495t0302o00.fits to: ./Other_Fields/c8495t0302o00.fits\n",
      "Moving c8495t0303o00.fits to: ./Other_Fields/c8495t0303o00.fits\n",
      "Moving c8495t0304o00.fits to: ./Other_Fields/c8495t0304o00.fits\n",
      "Moving c8495t0317o00.fits to: ./Other_Fields/c8495t0317o00.fits\n",
      "Moving c8495t0318o00.fits to: ./Other_Fields/c8495t0318o00.fits\n",
      "Moving c8495t0319o00.fits to: ./Other_Fields/c8495t0319o00.fits\n"
     ]
    }
   ],
   "source": [
    "# Globbing all the stuff I don't need and moving it out of the way\n",
    "other_fields = glob.glob('c*.fits')\n",
    "FileMover(other_fields,'Other_Fields')"
   ]
  },
  {
   "cell_type": "code",
   "execution_count": 36,
   "metadata": {},
   "outputs": [
    {
     "name": "stdout",
     "output_type": "stream",
     "text": [
      "E:\\20190112\\IC348_Ha_bias_sub\n"
     ]
    }
   ],
   "source": [
    "cd IC348_Ha_bias_sub/"
   ]
  },
  {
   "cell_type": "code",
   "execution_count": 39,
   "metadata": {},
   "outputs": [
    {
     "name": "stdout",
     "output_type": "stream",
     "text": [
      "f_b_0200o.fits has been flatfielded\n",
      "f_b_0201o.fits has been flatfielded\n",
      "f_b_0202o.fits has been flatfielded\n",
      "f_b_0154o.fits has been flatfielded\n",
      "f_b_0155o.fits has been flatfielded\n",
      "f_b_0156o.fits has been flatfielded\n",
      "f_b_0177o.fits has been flatfielded\n",
      "f_b_0178o.fits has been flatfielded\n",
      "f_b_0179o.fits has been flatfielded\n"
     ]
    }
   ],
   "source": [
    "IC348_Ha_bias_sub = glob.glob('*.fits')\n",
    "for image in IC348_Ha_bias_sub:\n",
    "    data = fits.getdata(image)\n",
    "    header = fits.getheader(image)\n",
    "    flat_fielded = data / Master_Ha_Flat\n",
    "    name = 'f_' + image\n",
    "    fits.writeto(name,flat_fielded,header,overwrite=True)\n",
    "    print(name + ' has been flatfielded')"
   ]
  },
  {
   "cell_type": "code",
   "execution_count": 42,
   "metadata": {},
   "outputs": [
    {
     "name": "stdout",
     "output_type": "stream",
     "text": [
      "E:\\20190112\n"
     ]
    }
   ],
   "source": [
    "cd -"
   ]
  },
  {
   "cell_type": "code",
   "execution_count": 43,
   "metadata": {},
   "outputs": [
    {
     "name": "stdout",
     "output_type": "stream",
     "text": [
      "E:\\20190112\\IC348_HaOff_bias_sub\n"
     ]
    }
   ],
   "source": [
    "cd IC348_HaOff_bias_sub/"
   ]
  },
  {
   "cell_type": "code",
   "execution_count": 44,
   "metadata": {},
   "outputs": [
    {
     "name": "stdout",
     "output_type": "stream",
     "text": [
      "f_b_0182o.fits has been flatfielded\n",
      "f_b_0203o.fits has been flatfielded\n",
      "f_b_0204o.fits has been flatfielded\n",
      "f_b_0205o.fits has been flatfielded\n",
      "f_b_0157o.fits has been flatfielded\n",
      "f_b_0158o.fits has been flatfielded\n",
      "f_b_0159o.fits has been flatfielded\n",
      "f_b_0180o.fits has been flatfielded\n",
      "f_b_0181o.fits has been flatfielded\n"
     ]
    }
   ],
   "source": [
    "IC348_Haoff_bias_sub = glob.glob('*.fits')\n",
    "for image in IC348_Haoff_bias_sub:\n",
    "    data = fits.getdata(image)\n",
    "    header = fits.getheader(image)\n",
    "    flat_fielded = data / Master_Haoff_Flat\n",
    "    name = 'f_' + image\n",
    "    fits.writeto(name,flat_fielded,header,overwrite=True)\n",
    "    print(name + ' has been flatfielded')"
   ]
  },
  {
   "cell_type": "markdown",
   "metadata": {},
   "source": [
    "#### HL Tau Science Images"
   ]
  },
  {
   "cell_type": "code",
   "execution_count": null,
   "metadata": {},
   "outputs": [],
   "source": []
  }
 ],
 "metadata": {
  "kernelspec": {
   "display_name": "Python 3",
   "language": "python",
   "name": "python3"
  },
  "language_info": {
   "codemirror_mode": {
    "name": "ipython",
    "version": 3
   },
   "file_extension": ".py",
   "mimetype": "text/x-python",
   "name": "python",
   "nbconvert_exporter": "python",
   "pygments_lexer": "ipython3",
   "version": "3.6.5"
  }
 },
 "nbformat": 4,
 "nbformat_minor": 2
}
